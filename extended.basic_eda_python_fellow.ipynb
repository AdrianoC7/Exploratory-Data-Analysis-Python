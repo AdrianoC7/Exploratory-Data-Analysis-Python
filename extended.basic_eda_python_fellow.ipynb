{
 "cells": [
  {
   "cell_type": "markdown",
   "metadata": {
    "deletable": false,
    "editable": false,
    "nbgrader": {
     "cell_type": "markdown",
     "checksum": "5f8a0453308a9869e555b532451f1877",
     "grade": false,
     "grade_id": "cell-baec21b6430a0b5d",
     "locked": true,
     "schema_version": 3,
     "solution": false,
     "task": false
    }
   },
   "source": [
    "# How can we control the increasing number of accidents in New York?"
   ]
  },
  {
   "cell_type": "markdown",
   "metadata": {
    "deletable": false,
    "editable": false,
    "nbgrader": {
     "cell_type": "markdown",
     "checksum": "af7a3bcd3533aafb3039bc343b03f5c4",
     "grade": false,
     "grade_id": "cell-ba6c525b4e095cc0",
     "locked": true,
     "points": 0,
     "schema_version": 3,
     "solution": false,
     "task": true
    }
   },
   "source": [
    "**Total points**: 46\n"
   ]
  },
  {
   "cell_type": "code",
   "execution_count": 21,
   "metadata": {
    "deletable": false,
    "editable": false,
    "nbgrader": {
     "cell_type": "code",
     "checksum": "449434789802ff028b1a74a32687c221",
     "grade": false,
     "grade_id": "cell-25c879fc483dae29",
     "locked": true,
     "schema_version": 3,
     "solution": false,
     "task": false
    }
   },
   "outputs": [],
   "source": [
    "import json\n",
    "import pandas as pd\n",
    "import matplotlib.pyplot as plt\n",
    "import seaborn as sns\n",
    "import numpy as np\n",
    "import base64"
   ]
  },
  {
   "cell_type": "markdown",
   "metadata": {
    "deletable": false,
    "editable": false,
    "nbgrader": {
     "cell_type": "markdown",
     "checksum": "1b7f0c7f693ec2d5d0fb6012208e3d52",
     "grade": false,
     "grade_id": "cell-c8cd80e3119bd3da",
     "locked": true,
     "schema_version": 3,
     "solution": false,
     "task": false
    }
   },
   "source": [
    "## Introduction\n",
    "\n",
    "**Business Context.** The city of New York has seen a rise in the number of accidents on the roads in the city. They would like to know if the number of accidents have increased in the last few weeks. For all the reported accidents, they have collected details for each accident and have been maintaining records for the past year and a half (from January 2018 to August 2019). \n",
    "\n",
    "The city has contracted you to build visualizations that would help them identify patterns in accidents, which would help them take preventive actions to reduce the number of accidents in the future. \n",
    "They would like specific information on certain parameters like borough, time of day, reason for accident, etc.\n",
    "\n",
    "**Business Problem.** Your task is to format the given data and provide visualizations that would answer the specific questions the client has, which are mentioned below.\n",
    "\n",
    "**Analytical Context.** You are given a CSV file (stored in the already created ```data``` folder) containing details about each accident like date, time, location of the accident, reason for the accident, types of vehicles involved, injury and death count, etc. The delimiter in the given CSV file is `;` instead of the default `,`. You will be performing the following tasks on the data:\n",
    "\n",
    "1. Extract additional borough data stored in a JSON file\n",
    "2. Read, transform, and prepare data for visualization\n",
    "3. Construct and analyze visualizations of the data to identify patterns in the dataset\n",
    "        \n",
    "The client has a specific set of questions they would like to get answers to. You will need to provide visualizations to accompany these:\n",
    "\n",
    "1. How have the number of accidents fluctuated over the past year and a half? Have they increased over that time?\n",
    "2. For any particular day, during which hours are accidents most likely to occur?\n",
    "3. Are there more accidents on weekdays than weekends?\n",
    "4. What are the accidents' count-to-area ratio per borough? Which boroughs have disproportionately large numbers of accidents for their size?\n",
    "5. For each borough, during which hours are accidents most likely to occur?\n",
    "6. What are the top 5 causes of accidents in the city? \n",
    "7. What types of vehicles are most involved in accidents per borough?\n",
    "8. What types of vehicles are most involved in deaths?\n",
    "\n",
    "**Note:** To solve this extended case, please read the function docstrings **very carefully**. They contain information that you will need! Also, please don't include `print()` statements inside your functions (they will most likely produce an error in the test cells). Finally, for the purposes of this case, do not worry about standardizing text variables - for example, treat `taxi` and `Taxi` as though they were different values."
   ]
  },
  {
   "cell_type": "markdown",
   "metadata": {
    "deletable": false,
    "editable": false,
    "nbgrader": {
     "cell_type": "markdown",
     "checksum": "5f7bb8a18eba31a5f1991d85dac077d8",
     "grade": false,
     "grade_id": "cell-70d08a0bd2b05b7b",
     "locked": true,
     "schema_version": 3,
     "solution": false,
     "task": false
    }
   },
   "source": [
    "## Fetching the relevant data\n",
    "\n",
    "The client has requested analysis of the accidents-to-area ratio for boroughs. Borough data is stored in a JSON file in the ```data``` folder (this file was created using data from [Wikipedia](https://en.wikipedia.org/wiki/Boroughs_of_New_York_City))."
   ]
  },
  {
   "cell_type": "markdown",
   "metadata": {
    "deletable": false,
    "editable": false,
    "nbgrader": {
     "cell_type": "markdown",
     "checksum": "ac66b28e82b9fc158eb7b75c9826cc22",
     "grade": false,
     "grade_id": "cell-03024018922a920e",
     "locked": true,
     "schema_version": 3,
     "solution": false,
     "task": false
    },
    "tags": [
     "5_min"
    ]
   },
   "source": [
    "Let's use the function ```json.load()``` to load the file ```borough_data.json``` as a dictionary:"
   ]
  },
  {
   "cell_type": "code",
   "execution_count": 22,
   "metadata": {
    "deletable": false,
    "editable": false,
    "nbgrader": {
     "cell_type": "code",
     "checksum": "07808483a25d20ffca9e1df3c0cbe35c",
     "grade": false,
     "grade_id": "cell-92d2a3461441cf8f",
     "locked": true,
     "schema_version": 3,
     "solution": false,
     "task": false
    }
   },
   "outputs": [
    {
     "data": {
      "text/plain": [
       "{'the bronx': {'name': 'the bronx', 'population': 1471160.0, 'area': 42.1},\n",
       " 'brooklyn': {'name': 'brooklyn', 'population': 2648771.0, 'area': 70.82},\n",
       " 'manhattan': {'name': 'manhattan', 'population': 1664727.0, 'area': 22.83},\n",
       " 'queens': {'name': 'queens', 'population': 2358582.0, 'area': 108.53},\n",
       " 'staten island': {'name': 'staten island',\n",
       "  'population': 479458.0,\n",
       "  'area': 58.37}}"
      ]
     },
     "execution_count": 22,
     "metadata": {},
     "output_type": "execute_result"
    }
   ],
   "source": [
    "with open('data/borough_data.json') as f:\n",
    "    borough_data=json.load(f)\n",
    "borough_data"
   ]
  },
  {
   "cell_type": "markdown",
   "metadata": {
    "deletable": false,
    "editable": false,
    "nbgrader": {
     "cell_type": "markdown",
     "checksum": "109a79114ad9ba1d167a75ac7ca166e1",
     "grade": false,
     "grade_id": "cell-8726ed13ca1fc4b8",
     "locked": true,
     "schema_version": 3,
     "solution": false,
     "task": false
    },
    "tags": [
     "5_min"
    ]
   },
   "source": [
    "Similarly, let's use the `pandas` function ```read_csv()``` to load the file ```accidents.csv``` as a DataFrame. We will name this DataFrame ```df```. "
   ]
  },
  {
   "cell_type": "code",
   "execution_count": 23,
   "metadata": {
    "deletable": false,
    "editable": false,
    "nbgrader": {
     "cell_type": "code",
     "checksum": "6ae64aa6ce9081ddc71e11fe6cd6f327",
     "grade": false,
     "grade_id": "cell-452bccc1dd49b599",
     "locked": true,
     "schema_version": 3,
     "solution": false,
     "task": false
    }
   },
   "outputs": [],
   "source": [
    "with open('data/accidents.csv') as f:\n",
    "    df=pd.read_csv(f, delimiter=';')"
   ]
  },
  {
   "cell_type": "markdown",
   "metadata": {
    "deletable": false,
    "editable": false,
    "nbgrader": {
     "cell_type": "markdown",
     "checksum": "be3f23e895ed7fd3063ee54241950687",
     "grade": false,
     "grade_id": "cell-4bb4232cd61a3b75",
     "locked": true,
     "schema_version": 3,
     "solution": false,
     "task": false
    }
   },
   "source": [
    "## Overview of the data\n",
    "\n",
    "Let's go through the columns present in the DataFrame:"
   ]
  },
  {
   "cell_type": "code",
   "execution_count": 24,
   "metadata": {
    "deletable": false,
    "editable": false,
    "nbgrader": {
     "cell_type": "code",
     "checksum": "d7c085afa07bd946d03830726e175ea6",
     "grade": false,
     "grade_id": "cell-b3d44ba2d19eaf68",
     "locked": true,
     "schema_version": 3,
     "solution": false,
     "task": false
    }
   },
   "outputs": [
    {
     "data": {
      "text/plain": [
       "Index(['DATE', 'TIME', 'BOROUGH', 'ZIP CODE', 'LATITUDE', 'LONGITUDE',\n",
       "       'ON STREET NAME', 'NUMBER OF PEDESTRIANS INJURED',\n",
       "       'NUMBER OF PEDESTRIANS KILLED', 'NUMBER OF CYCLIST INJURED',\n",
       "       'NUMBER OF CYCLIST KILLED', 'NUMBER OF MOTORIST INJURED',\n",
       "       'NUMBER OF MOTORIST KILLED', 'CONTRIBUTING FACTOR VEHICLE 1',\n",
       "       'CONTRIBUTING FACTOR VEHICLE 2', 'CONTRIBUTING FACTOR VEHICLE 3',\n",
       "       'CONTRIBUTING FACTOR VEHICLE 4', 'CONTRIBUTING FACTOR VEHICLE 5',\n",
       "       'COLLISION_ID', 'VEHICLE TYPE CODE 1', 'VEHICLE TYPE CODE 2',\n",
       "       'VEHICLE TYPE CODE 3', 'VEHICLE TYPE CODE 4', 'VEHICLE TYPE CODE 5'],\n",
       "      dtype='object')"
      ]
     },
     "execution_count": 24,
     "metadata": {},
     "output_type": "execute_result"
    }
   ],
   "source": [
    "df.columns"
   ]
  },
  {
   "cell_type": "code",
   "execution_count": 25,
   "metadata": {},
   "outputs": [
    {
     "data": {
      "text/html": [
       "<div>\n",
       "<style scoped>\n",
       "    .dataframe tbody tr th:only-of-type {\n",
       "        vertical-align: middle;\n",
       "    }\n",
       "\n",
       "    .dataframe tbody tr th {\n",
       "        vertical-align: top;\n",
       "    }\n",
       "\n",
       "    .dataframe thead th {\n",
       "        text-align: right;\n",
       "    }\n",
       "</style>\n",
       "<table border=\"1\" class=\"dataframe\">\n",
       "  <thead>\n",
       "    <tr style=\"text-align: right;\">\n",
       "      <th></th>\n",
       "      <th>DATE</th>\n",
       "      <th>TIME</th>\n",
       "      <th>BOROUGH</th>\n",
       "      <th>ZIP CODE</th>\n",
       "      <th>LATITUDE</th>\n",
       "      <th>LONGITUDE</th>\n",
       "      <th>ON STREET NAME</th>\n",
       "      <th>NUMBER OF PEDESTRIANS INJURED</th>\n",
       "      <th>NUMBER OF PEDESTRIANS KILLED</th>\n",
       "      <th>NUMBER OF CYCLIST INJURED</th>\n",
       "      <th>...</th>\n",
       "      <th>CONTRIBUTING FACTOR VEHICLE 2</th>\n",
       "      <th>CONTRIBUTING FACTOR VEHICLE 3</th>\n",
       "      <th>CONTRIBUTING FACTOR VEHICLE 4</th>\n",
       "      <th>CONTRIBUTING FACTOR VEHICLE 5</th>\n",
       "      <th>COLLISION_ID</th>\n",
       "      <th>VEHICLE TYPE CODE 1</th>\n",
       "      <th>VEHICLE TYPE CODE 2</th>\n",
       "      <th>VEHICLE TYPE CODE 3</th>\n",
       "      <th>VEHICLE TYPE CODE 4</th>\n",
       "      <th>VEHICLE TYPE CODE 5</th>\n",
       "    </tr>\n",
       "  </thead>\n",
       "  <tbody>\n",
       "    <tr>\n",
       "      <th>0</th>\n",
       "      <td>09/26/2018</td>\n",
       "      <td>12:12</td>\n",
       "      <td>BRONX</td>\n",
       "      <td>10454.0</td>\n",
       "      <td>40.808987</td>\n",
       "      <td>-73.911316</td>\n",
       "      <td>NaN</td>\n",
       "      <td>0</td>\n",
       "      <td>0</td>\n",
       "      <td>0</td>\n",
       "      <td>...</td>\n",
       "      <td>NaN</td>\n",
       "      <td>NaN</td>\n",
       "      <td>NaN</td>\n",
       "      <td>NaN</td>\n",
       "      <td>3988123</td>\n",
       "      <td>Sedan</td>\n",
       "      <td>NaN</td>\n",
       "      <td>NaN</td>\n",
       "      <td>NaN</td>\n",
       "      <td>NaN</td>\n",
       "    </tr>\n",
       "    <tr>\n",
       "      <th>1</th>\n",
       "      <td>09/25/2018</td>\n",
       "      <td>16:30</td>\n",
       "      <td>BROOKLYN</td>\n",
       "      <td>11236.0</td>\n",
       "      <td>40.636005</td>\n",
       "      <td>-73.912510</td>\n",
       "      <td>FLATLANDS AVENUE</td>\n",
       "      <td>1</td>\n",
       "      <td>0</td>\n",
       "      <td>0</td>\n",
       "      <td>...</td>\n",
       "      <td>NaN</td>\n",
       "      <td>NaN</td>\n",
       "      <td>NaN</td>\n",
       "      <td>NaN</td>\n",
       "      <td>3987962</td>\n",
       "      <td>Sedan</td>\n",
       "      <td>NaN</td>\n",
       "      <td>NaN</td>\n",
       "      <td>NaN</td>\n",
       "      <td>NaN</td>\n",
       "    </tr>\n",
       "    <tr>\n",
       "      <th>2</th>\n",
       "      <td>08/22/2019</td>\n",
       "      <td>19:30</td>\n",
       "      <td>QUEENS</td>\n",
       "      <td>11101.0</td>\n",
       "      <td>40.755490</td>\n",
       "      <td>-73.939530</td>\n",
       "      <td>NaN</td>\n",
       "      <td>0</td>\n",
       "      <td>0</td>\n",
       "      <td>0</td>\n",
       "      <td>...</td>\n",
       "      <td>NaN</td>\n",
       "      <td>NaN</td>\n",
       "      <td>NaN</td>\n",
       "      <td>NaN</td>\n",
       "      <td>4193132</td>\n",
       "      <td>Sedan</td>\n",
       "      <td>NaN</td>\n",
       "      <td>NaN</td>\n",
       "      <td>NaN</td>\n",
       "      <td>NaN</td>\n",
       "    </tr>\n",
       "    <tr>\n",
       "      <th>3</th>\n",
       "      <td>09/23/2018</td>\n",
       "      <td>13:10</td>\n",
       "      <td>QUEENS</td>\n",
       "      <td>11367.0</td>\n",
       "      <td>NaN</td>\n",
       "      <td>NaN</td>\n",
       "      <td>MAIN STREET</td>\n",
       "      <td>0</td>\n",
       "      <td>0</td>\n",
       "      <td>1</td>\n",
       "      <td>...</td>\n",
       "      <td>Unspecified</td>\n",
       "      <td>NaN</td>\n",
       "      <td>NaN</td>\n",
       "      <td>NaN</td>\n",
       "      <td>3985962</td>\n",
       "      <td>Bike</td>\n",
       "      <td>Station Wagon/Sport Utility Vehicle</td>\n",
       "      <td>NaN</td>\n",
       "      <td>NaN</td>\n",
       "      <td>NaN</td>\n",
       "    </tr>\n",
       "    <tr>\n",
       "      <th>4</th>\n",
       "      <td>08/20/2019</td>\n",
       "      <td>22:40</td>\n",
       "      <td>BRONX</td>\n",
       "      <td>10468.0</td>\n",
       "      <td>40.868336</td>\n",
       "      <td>-73.901270</td>\n",
       "      <td>NaN</td>\n",
       "      <td>0</td>\n",
       "      <td>0</td>\n",
       "      <td>0</td>\n",
       "      <td>...</td>\n",
       "      <td>Unspecified</td>\n",
       "      <td>NaN</td>\n",
       "      <td>NaN</td>\n",
       "      <td>NaN</td>\n",
       "      <td>4192111</td>\n",
       "      <td>Sedan</td>\n",
       "      <td>Sedan</td>\n",
       "      <td>NaN</td>\n",
       "      <td>NaN</td>\n",
       "      <td>NaN</td>\n",
       "    </tr>\n",
       "    <tr>\n",
       "      <th>...</th>\n",
       "      <td>...</td>\n",
       "      <td>...</td>\n",
       "      <td>...</td>\n",
       "      <td>...</td>\n",
       "      <td>...</td>\n",
       "      <td>...</td>\n",
       "      <td>...</td>\n",
       "      <td>...</td>\n",
       "      <td>...</td>\n",
       "      <td>...</td>\n",
       "      <td>...</td>\n",
       "      <td>...</td>\n",
       "      <td>...</td>\n",
       "      <td>...</td>\n",
       "      <td>...</td>\n",
       "      <td>...</td>\n",
       "      <td>...</td>\n",
       "      <td>...</td>\n",
       "      <td>...</td>\n",
       "      <td>...</td>\n",
       "      <td>...</td>\n",
       "    </tr>\n",
       "    <tr>\n",
       "      <th>238517</th>\n",
       "      <td>01/20/2018</td>\n",
       "      <td>15:00</td>\n",
       "      <td>QUEENS</td>\n",
       "      <td>11436.0</td>\n",
       "      <td>40.685356</td>\n",
       "      <td>-73.797230</td>\n",
       "      <td>LINDEN BOULEVARD</td>\n",
       "      <td>0</td>\n",
       "      <td>0</td>\n",
       "      <td>0</td>\n",
       "      <td>...</td>\n",
       "      <td>Unspecified</td>\n",
       "      <td>NaN</td>\n",
       "      <td>NaN</td>\n",
       "      <td>NaN</td>\n",
       "      <td>3832275</td>\n",
       "      <td>SPORT UTILITY / STATION WAGON</td>\n",
       "      <td>PASSENGER VEHICLE</td>\n",
       "      <td>NaN</td>\n",
       "      <td>NaN</td>\n",
       "      <td>NaN</td>\n",
       "    </tr>\n",
       "    <tr>\n",
       "      <th>238518</th>\n",
       "      <td>01/04/2018</td>\n",
       "      <td>14:00</td>\n",
       "      <td>BRONX</td>\n",
       "      <td>10452.0</td>\n",
       "      <td>40.845180</td>\n",
       "      <td>-73.914170</td>\n",
       "      <td>JEROME AVENUE</td>\n",
       "      <td>0</td>\n",
       "      <td>0</td>\n",
       "      <td>0</td>\n",
       "      <td>...</td>\n",
       "      <td>NaN</td>\n",
       "      <td>NaN</td>\n",
       "      <td>NaN</td>\n",
       "      <td>NaN</td>\n",
       "      <td>3822315</td>\n",
       "      <td>SPORT UTILITY / STATION WAGON</td>\n",
       "      <td>NaN</td>\n",
       "      <td>NaN</td>\n",
       "      <td>NaN</td>\n",
       "      <td>NaN</td>\n",
       "    </tr>\n",
       "    <tr>\n",
       "      <th>238519</th>\n",
       "      <td>01/20/2018</td>\n",
       "      <td>13:05</td>\n",
       "      <td>BRONX</td>\n",
       "      <td>10462.0</td>\n",
       "      <td>40.831210</td>\n",
       "      <td>-73.850876</td>\n",
       "      <td>CASTLE HILL AVENUE</td>\n",
       "      <td>0</td>\n",
       "      <td>0</td>\n",
       "      <td>0</td>\n",
       "      <td>...</td>\n",
       "      <td>Unspecified</td>\n",
       "      <td>NaN</td>\n",
       "      <td>NaN</td>\n",
       "      <td>NaN</td>\n",
       "      <td>3832513</td>\n",
       "      <td>PASSENGER VEHICLE</td>\n",
       "      <td>SPORT UTILITY / STATION WAGON</td>\n",
       "      <td>NaN</td>\n",
       "      <td>NaN</td>\n",
       "      <td>NaN</td>\n",
       "    </tr>\n",
       "    <tr>\n",
       "      <th>238520</th>\n",
       "      <td>01/29/2018</td>\n",
       "      <td>17:45</td>\n",
       "      <td>QUEENS</td>\n",
       "      <td>11377.0</td>\n",
       "      <td>40.757250</td>\n",
       "      <td>-73.904854</td>\n",
       "      <td>31 AVENUE</td>\n",
       "      <td>0</td>\n",
       "      <td>0</td>\n",
       "      <td>0</td>\n",
       "      <td>...</td>\n",
       "      <td>Unspecified</td>\n",
       "      <td>NaN</td>\n",
       "      <td>NaN</td>\n",
       "      <td>NaN</td>\n",
       "      <td>3837608</td>\n",
       "      <td>SPORT UTILITY / STATION WAGON</td>\n",
       "      <td>PASSENGER VEHICLE</td>\n",
       "      <td>NaN</td>\n",
       "      <td>NaN</td>\n",
       "      <td>NaN</td>\n",
       "    </tr>\n",
       "    <tr>\n",
       "      <th>238521</th>\n",
       "      <td>01/23/2018</td>\n",
       "      <td>16:38</td>\n",
       "      <td>BROOKLYN</td>\n",
       "      <td>11211.0</td>\n",
       "      <td>40.710197</td>\n",
       "      <td>-73.958430</td>\n",
       "      <td>HAVEMEYER STREET</td>\n",
       "      <td>0</td>\n",
       "      <td>0</td>\n",
       "      <td>0</td>\n",
       "      <td>...</td>\n",
       "      <td>Passing or Lane Usage Improper</td>\n",
       "      <td>NaN</td>\n",
       "      <td>NaN</td>\n",
       "      <td>NaN</td>\n",
       "      <td>3833631</td>\n",
       "      <td>SPORT UTILITY / STATION WAGON</td>\n",
       "      <td>SPORT UTILITY / STATION WAGON</td>\n",
       "      <td>NaN</td>\n",
       "      <td>NaN</td>\n",
       "      <td>NaN</td>\n",
       "    </tr>\n",
       "  </tbody>\n",
       "</table>\n",
       "<p>238522 rows × 24 columns</p>\n",
       "</div>"
      ],
      "text/plain": [
       "              DATE   TIME   BOROUGH  ZIP CODE   LATITUDE  LONGITUDE  \\\n",
       "0       09/26/2018  12:12     BRONX   10454.0  40.808987 -73.911316   \n",
       "1       09/25/2018  16:30  BROOKLYN   11236.0  40.636005 -73.912510   \n",
       "2       08/22/2019  19:30    QUEENS   11101.0  40.755490 -73.939530   \n",
       "3       09/23/2018  13:10    QUEENS   11367.0        NaN        NaN   \n",
       "4       08/20/2019  22:40     BRONX   10468.0  40.868336 -73.901270   \n",
       "...            ...    ...       ...       ...        ...        ...   \n",
       "238517  01/20/2018  15:00    QUEENS   11436.0  40.685356 -73.797230   \n",
       "238518  01/04/2018  14:00     BRONX   10452.0  40.845180 -73.914170   \n",
       "238519  01/20/2018  13:05     BRONX   10462.0  40.831210 -73.850876   \n",
       "238520  01/29/2018  17:45    QUEENS   11377.0  40.757250 -73.904854   \n",
       "238521  01/23/2018  16:38  BROOKLYN   11211.0  40.710197 -73.958430   \n",
       "\n",
       "                          ON STREET NAME  NUMBER OF PEDESTRIANS INJURED  \\\n",
       "0                                    NaN                              0   \n",
       "1       FLATLANDS AVENUE                                              1   \n",
       "2                                    NaN                              0   \n",
       "3       MAIN STREET                                                   0   \n",
       "4                                    NaN                              0   \n",
       "...                                  ...                            ...   \n",
       "238517  LINDEN BOULEVARD                                              0   \n",
       "238518  JEROME AVENUE                                                 0   \n",
       "238519  CASTLE HILL AVENUE                                            0   \n",
       "238520  31 AVENUE                                                     0   \n",
       "238521  HAVEMEYER STREET                                              0   \n",
       "\n",
       "        NUMBER OF PEDESTRIANS KILLED  NUMBER OF CYCLIST INJURED  ...  \\\n",
       "0                                  0                          0  ...   \n",
       "1                                  0                          0  ...   \n",
       "2                                  0                          0  ...   \n",
       "3                                  0                          1  ...   \n",
       "4                                  0                          0  ...   \n",
       "...                              ...                        ...  ...   \n",
       "238517                             0                          0  ...   \n",
       "238518                             0                          0  ...   \n",
       "238519                             0                          0  ...   \n",
       "238520                             0                          0  ...   \n",
       "238521                             0                          0  ...   \n",
       "\n",
       "         CONTRIBUTING FACTOR VEHICLE 2  CONTRIBUTING FACTOR VEHICLE 3  \\\n",
       "0                                  NaN                            NaN   \n",
       "1                                  NaN                            NaN   \n",
       "2                                  NaN                            NaN   \n",
       "3                          Unspecified                            NaN   \n",
       "4                          Unspecified                            NaN   \n",
       "...                                ...                            ...   \n",
       "238517                     Unspecified                            NaN   \n",
       "238518                             NaN                            NaN   \n",
       "238519                     Unspecified                            NaN   \n",
       "238520                     Unspecified                            NaN   \n",
       "238521  Passing or Lane Usage Improper                            NaN   \n",
       "\n",
       "        CONTRIBUTING FACTOR VEHICLE 4 CONTRIBUTING FACTOR VEHICLE 5  \\\n",
       "0                                 NaN                           NaN   \n",
       "1                                 NaN                           NaN   \n",
       "2                                 NaN                           NaN   \n",
       "3                                 NaN                           NaN   \n",
       "4                                 NaN                           NaN   \n",
       "...                               ...                           ...   \n",
       "238517                            NaN                           NaN   \n",
       "238518                            NaN                           NaN   \n",
       "238519                            NaN                           NaN   \n",
       "238520                            NaN                           NaN   \n",
       "238521                            NaN                           NaN   \n",
       "\n",
       "       COLLISION_ID            VEHICLE TYPE CODE 1  \\\n",
       "0           3988123                          Sedan   \n",
       "1           3987962                          Sedan   \n",
       "2           4193132                          Sedan   \n",
       "3           3985962                           Bike   \n",
       "4           4192111                          Sedan   \n",
       "...             ...                            ...   \n",
       "238517      3832275  SPORT UTILITY / STATION WAGON   \n",
       "238518      3822315  SPORT UTILITY / STATION WAGON   \n",
       "238519      3832513              PASSENGER VEHICLE   \n",
       "238520      3837608  SPORT UTILITY / STATION WAGON   \n",
       "238521      3833631  SPORT UTILITY / STATION WAGON   \n",
       "\n",
       "                        VEHICLE TYPE CODE 2 VEHICLE TYPE CODE 3  \\\n",
       "0                                       NaN                 NaN   \n",
       "1                                       NaN                 NaN   \n",
       "2                                       NaN                 NaN   \n",
       "3       Station Wagon/Sport Utility Vehicle                 NaN   \n",
       "4                                     Sedan                 NaN   \n",
       "...                                     ...                 ...   \n",
       "238517                    PASSENGER VEHICLE                 NaN   \n",
       "238518                                  NaN                 NaN   \n",
       "238519        SPORT UTILITY / STATION WAGON                 NaN   \n",
       "238520                    PASSENGER VEHICLE                 NaN   \n",
       "238521        SPORT UTILITY / STATION WAGON                 NaN   \n",
       "\n",
       "        VEHICLE TYPE CODE 4 VEHICLE TYPE CODE 5  \n",
       "0                       NaN                 NaN  \n",
       "1                       NaN                 NaN  \n",
       "2                       NaN                 NaN  \n",
       "3                       NaN                 NaN  \n",
       "4                       NaN                 NaN  \n",
       "...                     ...                 ...  \n",
       "238517                  NaN                 NaN  \n",
       "238518                  NaN                 NaN  \n",
       "238519                  NaN                 NaN  \n",
       "238520                  NaN                 NaN  \n",
       "238521                  NaN                 NaN  \n",
       "\n",
       "[238522 rows x 24 columns]"
      ]
     },
     "execution_count": 25,
     "metadata": {},
     "output_type": "execute_result"
    }
   ],
   "source": [
    "df"
   ]
  },
  {
   "cell_type": "markdown",
   "metadata": {
    "deletable": false,
    "editable": false,
    "nbgrader": {
     "cell_type": "markdown",
     "checksum": "6aea70e3a9dfdc84f8d6fa2a8b0415d5",
     "grade": false,
     "grade_id": "cell-9ea9fcbd9ca91b67",
     "locked": true,
     "schema_version": 3,
     "solution": false,
     "task": false
    }
   },
   "source": [
    "We have the following columns:\n",
    "\n",
    "1. **BOROUGH**: The borough in which the accident occurred\n",
    "2. **COLLISION_ID**: A unique identifier for this collision\n",
    "3. **CONTRIBUTING FACTOR VEHICLE (1, 2, 3, 4, 5)**: Reasons for the accident\n",
    "4. **CROSS STREET NAME**: Nearest cross street to the location of the accident\n",
    "5. **DATE**: Date of the accident\n",
    "6. **TIME**: Time of the accident\n",
    "7. **LATITUDE**: Latitude of the accident\n",
    "8. **LONGITUDE**: Longitude of the accident\n",
    "9. **NUMBER OF (CYCLISTS, MOTORISTS, PEDESTRIANS) INJURED**: Injuries by category\n",
    "10. **NUMBER OF (CYCLISTS, MOTORISTS, PEDESTRIANS) KILLED**: Deaths by category\n",
    "11. **ON STREET NAME**: Street where the accident occurred\n",
    "13. **VEHICLE TYPE CODE (1, 2, 3, 4, 5)**: Types of vehicles involved in the accident\n",
    "14. **ZIP CODE**: Zip code of the accident location"
   ]
  },
  {
   "cell_type": "markdown",
   "metadata": {
    "deletable": false,
    "editable": false,
    "nbgrader": {
     "cell_type": "markdown",
     "checksum": "cb961b818a1a7e7eb8e41ef22693261a",
     "grade": false,
     "grade_id": "cell-37d76b97293b8df9",
     "locked": true,
     "points": 2,
     "schema_version": 3,
     "solution": false,
     "task": true
    },
    "tags": [
     "15_min"
    ]
   },
   "source": [
    "### Exercise 1 (2 points)\n",
    "\n",
    "Since 2014, New York City has been implementing a road safety plan named [Vision Zero](https://www1.nyc.gov/content/visionzero/pages/). It aims to reduce the number of traffic deaths to *zero* by the end of 2024. The plan is creating new and enhancing current safety measures, some of these include:\n",
    "\n",
    "<ul>\n",
    "A. Automated pedestrian detection<br>\n",
    "B. Road safety audits at high risk locations<br>\n",
    "C. Expansion in the cycle track network<br>\n",
    "D. Targeted education and awareness initiatives<br>\n",
    "E. Creation of pedestrian refuge islands<br>\n",
    "F. Launch Integrated Data-Driven Speed Reducer Program (speed humps & speed cushions)<br>\n",
    "</ul>\n",
    "\n",
    "Which of these initiatives could directly benefit from an analysis of the data provided? Select all that apply.\n",
    "\n",
    "**Note:** In this notebook, whenever you are asked to write text, use the cell below the question cell to write your answer there. If you write in the same cell as the question, your answer will not be recorded.\n"
   ]
  },
  {
   "cell_type": "markdown",
   "metadata": {},
   "source": [
    "B D F"
   ]
  },
  {
   "cell_type": "markdown",
   "metadata": {
    "deletable": false,
    "editable": false,
    "nbgrader": {
     "cell_type": "markdown",
     "checksum": "76e33f25e349760c6e03bb3c65017f61",
     "grade": false,
     "grade_id": "cell-322e46a25360428f",
     "locked": true,
     "schema_version": 3,
     "solution": false,
     "task": false
    }
   },
   "source": [
    "## Answering the client's questions\n",
    "\n",
    "Let's go ahead and answer each of the client's questions."
   ]
  },
  {
   "cell_type": "markdown",
   "metadata": {
    "deletable": false,
    "editable": false,
    "nbgrader": {
     "cell_type": "markdown",
     "checksum": "5a1c2c6aec8382ea8d2f9d0ca3fcaba0",
     "grade": false,
     "grade_id": "cell-27abb76445cf702f",
     "locked": true,
     "schema_version": 3,
     "solution": false,
     "task": false
    },
    "tags": [
     "15_min"
    ]
   },
   "source": [
    "### Exercise 2\n",
    "\n",
    "#### 2.1 (2 points)\n",
    "\n",
    "Group the available accident data by month.\n",
    "\n",
    "**Hint**: You may find the `pandas` functions [```pd.to_datetime()```](https://pandas.pydata.org/pandas-docs/stable/reference/api/pandas.to_datetime.html) and [```dt.to_period()```](https://pandas.pydata.org/docs/reference/api/pandas.Series.dt.to_period.html) useful."
   ]
  },
  {
   "cell_type": "code",
   "execution_count": 358,
   "metadata": {
    "deletable": false,
    "nbgrader": {
     "cell_type": "code",
     "checksum": "4dd3d27b522753e662dd7f86b1fdbfc5",
     "grade": false,
     "grade_id": "cell-0f972809ebfaaa5a",
     "locked": false,
     "schema_version": 3,
     "solution": true,
     "task": false
    }
   },
   "outputs": [],
   "source": [
    "def ex_2(df):\n",
    "    \"\"\"\n",
    "    Group accidents by month\n",
    "    \n",
    "    Arguments:\n",
    "    `df`: A pandas DataFrame\n",
    "    \n",
    "    Outputs:\n",
    "    `monthly_accidents`: The grouped Series\n",
    "    \"\"\"\n",
    "    \n",
    "    # YOUR CODE HERE\n",
    "    df['monthly_accidents']= pd.to_datetime(df['DATE']).dt.to_period('M')\n",
    "    monthly_accidents = df.groupby(['monthly_accidents']).size()\n",
    "    \n",
    "    \n",
    "    return monthly_accidents"
   ]
  },
  {
   "cell_type": "markdown",
   "metadata": {
    "deletable": false,
    "editable": false,
    "nbgrader": {
     "cell_type": "markdown",
     "checksum": "f98481bfe1e5eac18c9a29b1b91e6818",
     "grade": false,
     "grade_id": "cell-bad4418558ffdda1",
     "locked": true,
     "schema_version": 3,
     "solution": false,
     "task": false
    }
   },
   "source": [
    "#### 2.2\n",
    "##### 2.2.1 (1 point)\n",
    "\n",
    "Generate a line plot of accidents over time."
   ]
  },
  {
   "cell_type": "code",
   "execution_count": 359,
   "metadata": {
    "deletable": false,
    "nbgrader": {
     "cell_type": "code",
     "checksum": "5aaefbf9e76a0476c6f77adce3e830e7",
     "grade": true,
     "grade_id": "cell-6d7a0247f12984b9",
     "locked": false,
     "points": 1,
     "schema_version": 3,
     "solution": true,
     "task": false
    }
   },
   "outputs": [
    {
     "data": {
      "text/plain": [
       "<AxesSubplot:xlabel='monthly_accidents'>"
      ]
     },
     "execution_count": 359,
     "metadata": {},
     "output_type": "execute_result"
    },
    {
     "data": {
      "image/png": "[encoded data removed]",
      "text/plain": [
       "<Figure size 432x288 with 1 Axes>"
      ]
     },
     "metadata": {
      "needs_background": "light"
     },
     "output_type": "display_data"
    }
   ],
   "source": [
    "# YOUR CODE HERE\n",
    "ex_2(df).plot.line(x = 'Monthly Accidents', y = 0)"
   ]
  },
  {
   "cell_type": "markdown",
   "metadata": {
    "deletable": false,
    "editable": false,
    "nbgrader": {
     "cell_type": "markdown",
     "checksum": "8cece86c8a7c6f9dc227cc93e1480bd6",
     "grade": false,
     "grade_id": "cell-d540425a1eb372c9",
     "locked": true,
     "points": 1,
     "schema_version": 3,
     "solution": false,
     "task": true
    }
   },
   "source": [
    "##### 2.2.2 (1 point)\n",
    "\n",
    "Has the number of accidents increased over the past year and a half? Justify your answer with an interpretation of a plot. \n"
   ]
  },
  {
   "cell_type": "markdown",
   "metadata": {},
   "source": [
    "Although the accidents fluctiate slightly according to the month, overall, the accidents haven't increased over the past year and a half. The accidents range between 10k and 13k accidents throughout this time but there is no significant or gradual increase to make that claim. It is important to note however, that from July 2019 to August 2019 there is a significant decrease in accidents going from 12k to roughly 8k total accidents"
   ]
  },
  {
   "cell_type": "markdown",
   "metadata": {
    "deletable": false,
    "editable": false,
    "nbgrader": {
     "cell_type": "markdown",
     "checksum": "f56655c90f6ba5706fd5ebdeeaa04e4a",
     "grade": false,
     "grade_id": "cell-cae82d4401d36c90",
     "locked": true,
     "points": 2,
     "schema_version": 3,
     "solution": false,
     "task": true
    },
    "tags": [
     "10_min"
    ]
   },
   "source": [
    "### Exercise 3 (2 points)\n",
    "\n",
    "From the plot above, which month(s) seem to have the least number of accidents? What do you think are the reasons behind this?\n"
   ]
  },
  {
   "cell_type": "markdown",
   "metadata": {},
   "source": [
    "The months that seem to have the least number of accidents are: Feb 2018, Feb 2019, and Aug 2019. I believe the reasons for Februrary in both years being the lowest is due to weather being cold. Which means more people are inside and there is less driving. However, I can't account for the month of August 2019. Maybe the implementation of Vision Zero is beginning to reduce accidents starting here"
   ]
  },
  {
   "cell_type": "markdown",
   "metadata": {
    "deletable": false,
    "editable": false,
    "nbgrader": {
     "cell_type": "markdown",
     "checksum": "ac478b9e5f471e951d390288f72ee63a",
     "grade": false,
     "grade_id": "cell-a56ec753bfddd1f5",
     "locked": true,
     "schema_version": 3,
     "solution": false,
     "task": false
    },
    "tags": [
     "15_min"
    ]
   },
   "source": [
    "### Exercise 4\n",
    "\n",
    "#### 4.1 (2 points)\n",
    "\n",
    "Create a new column `HOUR` based on the data from the `TIME` column.\n",
    "\n",
    "**Hint:** You may find the ```dt.hour``` accessor useful."
   ]
  },
  {
   "cell_type": "code",
   "execution_count": 362,
   "metadata": {
    "deletable": false,
    "nbgrader": {
     "cell_type": "code",
     "checksum": "9118fc85c1ba3522b50e8bde7ebc962e",
     "grade": false,
     "grade_id": "cell-419c27e92f4c8976",
     "locked": false,
     "schema_version": 3,
     "solution": true,
     "task": false
    }
   },
   "outputs": [],
   "source": [
    "def ex_4(df):\n",
    "    \"\"\"\n",
    "    Group accidents by hour of day\n",
    "    \n",
    "    Arguments:\n",
    "    `df`: A pandas DataFrame\n",
    "    \n",
    "    Outputs:\n",
    "    `hourly_accidents`: The grouped Series\n",
    "\n",
    "    \"\"\"\n",
    "    \n",
    "    # YOUR CODE HERE\n",
    "    df['HOUR'] = pd.to_datetime(df['TIME']).dt.hour\n",
    "    hourly_accidents = df.groupby(['HOUR']).size()\n",
    "    \n",
    "    return hourly_accidents"
   ]
  },
  {
   "cell_type": "markdown",
   "metadata": {
    "deletable": false,
    "editable": false,
    "nbgrader": {
     "cell_type": "markdown",
     "checksum": "1efec247175aef9738881982c973575d",
     "grade": false,
     "grade_id": "cell-7f0cd15b77d1d9c2",
     "locked": true,
     "schema_version": 3,
     "solution": false,
     "task": false
    }
   },
   "source": [
    "#### 4.2\n",
    "##### 4.2.1 (1 point)\n",
    " \n",
    "Plot a bar graph of the distribution per hour throughout the day."
   ]
  },
  {
   "cell_type": "code",
   "execution_count": 365,
   "metadata": {
    "deletable": false,
    "nbgrader": {
     "cell_type": "code",
     "checksum": "4c38d2570c8eac013eb85b9e2fe5c6f9",
     "grade": true,
     "grade_id": "cell-afd6b1b063e2f80e",
     "locked": false,
     "points": 1,
     "schema_version": 3,
     "solution": true,
     "task": false
    }
   },
   "outputs": [
    {
     "data": {
      "image/png": "[encoded data removed]",
      "text/plain": [
       "<Figure size 432x288 with 1 Axes>"
      ]
     },
     "metadata": {
      "needs_background": "light"
     },
     "output_type": "display_data"
    }
   ],
   "source": [
    "# YOUR CODE HERE\n",
    "df.groupby('HOUR')['TIME'].count().plot(kind='bar')\n",
    "plt.show()"
   ]
  },
  {
   "cell_type": "markdown",
   "metadata": {
    "deletable": false,
    "editable": false,
    "nbgrader": {
     "cell_type": "markdown",
     "checksum": "72fd625a483666a87d97cff4a62a27ea",
     "grade": false,
     "grade_id": "cell-d76634ab8ea839d4",
     "locked": true,
     "points": 1,
     "schema_version": 3,
     "solution": false,
     "task": true
    }
   },
   "source": [
    "##### 4.2.2 (1 point)\n",
    "How does the number of accidents vary throughout a single day?\n",
    "\n"
   ]
  },
  {
   "cell_type": "markdown",
   "metadata": {},
   "source": [
    "The number of accidents vary throughout the day by increasing from the hours 8-18. During this time we see majority of the distributed accidents occuring in this."
   ]
  },
  {
   "cell_type": "markdown",
   "metadata": {
    "deletable": false,
    "editable": false,
    "nbgrader": {
     "cell_type": "markdown",
     "checksum": "d11ce92b9b582dffb75facea13f8f495",
     "grade": false,
     "grade_id": "cell-fcc6952bd1f46a1c",
     "locked": true,
     "points": 2,
     "schema_version": 3,
     "solution": false,
     "task": true
    },
    "tags": [
     "10_min"
    ]
   },
   "source": [
    "### Exercise 5 (2 points)\n",
    "\n",
    "In the above question we have aggregated the number of accidents per hour disregarding the date and place of occurrence. What criticism would you give to this approach?\n",
    "\n"
   ]
  },
  {
   "cell_type": "markdown",
   "metadata": {},
   "source": [
    "The aggregate of accidents per hour doesn't really tell us much. It only reveals from the data set we retrieved the total number of accidents per hour but this can be misleading because one might believe that these are the worst times to drive in NY as a whole. This doesn't consider which places accidents happen the most. The critisicm I would give this approach is that this is a great starting point but it is not the end all be all. We need to find out more from variables such as which time, place (borough), which factors lead to it, in what specific areas do accidents happen the most? etc. "
   ]
  },
  {
   "cell_type": "markdown",
   "metadata": {
    "deletable": false,
    "editable": false,
    "nbgrader": {
     "cell_type": "markdown",
     "checksum": "8d99f2de2ef102ef326e3a7ff494c32e",
     "grade": false,
     "grade_id": "cell-456b65bd1173ae5a",
     "locked": true,
     "schema_version": 3,
     "solution": false,
     "task": false
    },
    "tags": [
     "15_min"
    ]
   },
   "source": [
    "### Exercise 6\n"
   ]
  },
  {
   "cell_type": "markdown",
   "metadata": {
    "deletable": false,
    "editable": false,
    "nbgrader": {
     "cell_type": "markdown",
     "checksum": "2b756fa380fbc9b8ad15606b80837c3a",
     "grade": false,
     "grade_id": "cell-40afb0de48f6e2fd",
     "locked": true,
     "schema_version": 3,
     "solution": false,
     "task": false
    }
   },
   "source": [
    "#### 6.1 (2 points)\n",
    "\n",
    "Calculate the number of accidents by day of the week.\n",
    "\n",
    "**Hint:** You may find the ```dt.weekday``` accessor useful."
   ]
  },
  {
   "cell_type": "code",
   "execution_count": 366,
   "metadata": {
    "deletable": false,
    "nbgrader": {
     "cell_type": "code",
     "checksum": "e89fb04af87a302fca206076faefb689",
     "grade": false,
     "grade_id": "cell-293c8b93b1f61fac",
     "locked": false,
     "schema_version": 3,
     "solution": true,
     "task": false
    }
   },
   "outputs": [],
   "source": [
    "def ex_6(df):\n",
    "    \"\"\"\n",
    "    Group accidents by day of the week\n",
    "    \n",
    "    Arguments:\n",
    "    `df`: A pandas DataFrame\n",
    "    \n",
    "    Outputs:\n",
    "    `weekday_accidents`: The grouped Series\n",
    "    \"\"\"\n",
    "    \n",
    "    # YOUR CODE HERE\n",
    "    df['WeekDay'] = pd.to_datetime(df['DATE']).dt.weekday\n",
    "    weekday_accidents = df.groupby(['WeekDay']).size()\n",
    "    \n",
    "    \n",
    "    return weekday_accidents"
   ]
  },
  {
   "cell_type": "markdown",
   "metadata": {
    "deletable": false,
    "editable": false,
    "nbgrader": {
     "cell_type": "markdown",
     "checksum": "51a36e5bd76270b9d5d3d5ea8334f9c8",
     "grade": false,
     "grade_id": "cell-29d747391521c660",
     "locked": true,
     "schema_version": 3,
     "solution": false,
     "task": false
    }
   },
   "source": [
    "#### 6.2\n",
    "##### 6.2.1 (1 point)\n",
    "Plot a bar graph based on the accidents count by day of the week."
   ]
  },
  {
   "cell_type": "code",
   "execution_count": 368,
   "metadata": {
    "deletable": false,
    "nbgrader": {
     "cell_type": "code",
     "checksum": "d636a27abbc285a33ef5282eb8e7f64e",
     "grade": true,
     "grade_id": "cell-b4465bdaadd4a0ba",
     "locked": false,
     "points": 1,
     "schema_version": 3,
     "solution": true,
     "task": false
    }
   },
   "outputs": [
    {
     "data": {
      "image/png": "[encoded data removed]",
      "text/plain": [
       "<Figure size 432x288 with 1 Axes>"
      ]
     },
     "metadata": {
      "needs_background": "light"
     },
     "output_type": "display_data"
    }
   ],
   "source": [
    "# YOUR CODE HERE\n",
    "ex_6(df).plot(kind = 'bar')\n",
    "plt.xlabel('Day of the Week')\n",
    "plt.ylabel('Number of Accidents')\n",
    "plt.show()"
   ]
  },
  {
   "cell_type": "markdown",
   "metadata": {
    "deletable": false,
    "editable": false,
    "nbgrader": {
     "cell_type": "markdown",
     "checksum": "b0b053376364aa044e55e2621f581c69",
     "grade": false,
     "grade_id": "cell-540dd79f4dc3dd25",
     "locked": true,
     "points": 1,
     "schema_version": 3,
     "solution": false,
     "task": true
    }
   },
   "source": [
    "##### 6.2.2 (1 point)\n",
    "\n",
    "How does the number of accidents vary throughout a single week?\n"
   ]
  },
  {
   "cell_type": "markdown",
   "metadata": {},
   "source": [
    "Throughout the week, accidents don't vary too much outside of saturday and sunday. This is probably due to people not driving to work, more people out walking, and more tourist are out and about. "
   ]
  },
  {
   "cell_type": "markdown",
   "metadata": {
    "deletable": false,
    "editable": false,
    "nbgrader": {
     "cell_type": "markdown",
     "checksum": "313abdccc2531ca7d3bf95dad0f0094e",
     "grade": false,
     "grade_id": "cell-da89c04d5c6f9ab1",
     "locked": true,
     "schema_version": 3,
     "solution": false,
     "task": false
    },
    "tags": [
     "30_min"
    ]
   },
   "source": [
    "### Exercise 7\n",
    "\n",
    "#### 7.1 (2 points)\n",
    "\n",
    "Calculate the total number of accidents for each borough."
   ]
  },
  {
   "cell_type": "code",
   "execution_count": 369,
   "metadata": {
    "deletable": false,
    "nbgrader": {
     "cell_type": "code",
     "checksum": "1a0945795bd22592448f17222ad4d5fe",
     "grade": false,
     "grade_id": "cell-5ba5491dce624e79",
     "locked": false,
     "schema_version": 3,
     "solution": true,
     "task": false
    }
   },
   "outputs": [],
   "source": [
    "def ex_7_1(df):\n",
    "    \"\"\"\n",
    "    Group accidents by borough\n",
    "    \n",
    "    Arguments:\n",
    "    `df`: A pandas DataFrame\n",
    "    \n",
    "    Outputs:\n",
    "    `boroughs`: The grouped Series\n",
    "    \"\"\"\n",
    "    \n",
    "    # YOUR CODE HERE\n",
    "    boroughs = df.groupby('BOROUGH').size()\n",
    "    \n",
    "    return boroughs"
   ]
  },
  {
   "cell_type": "markdown",
   "metadata": {
    "deletable": false,
    "editable": false,
    "nbgrader": {
     "cell_type": "markdown",
     "checksum": "11a27ad570c5b5ae0c78f1e608a4ac5a",
     "grade": false,
     "grade_id": "cell-fcb020d87a3bc3a7",
     "locked": true,
     "schema_version": 3,
     "solution": false,
     "task": false
    }
   },
   "source": [
    "#### 7.2\n",
    "##### 7.2.1 (1 point)\n",
    "\n",
    "Plot a bar graph of the previous data."
   ]
  },
  {
   "cell_type": "code",
   "execution_count": 371,
   "metadata": {
    "deletable": false,
    "nbgrader": {
     "cell_type": "code",
     "checksum": "43c29bee533d78d6685d86a16db68746",
     "grade": true,
     "grade_id": "cell-ebdddab103414bb4",
     "locked": false,
     "points": 1,
     "schema_version": 3,
     "solution": true,
     "task": false
    }
   },
   "outputs": [
    {
     "data": {
      "image/png": "[encoded data removed]",
      "text/plain": [
       "<Figure size 432x288 with 1 Axes>"
      ]
     },
     "metadata": {
      "needs_background": "light"
     },
     "output_type": "display_data"
    }
   ],
   "source": [
    "# YOUR CODE HERE\n",
    "ex_7_1(df).plot(kind = 'bar')\n",
    "plt.xlabel('Boroughs')\n",
    "plt.ylabel('Number of Accidents')\n",
    "plt.show()"
   ]
  },
  {
   "cell_type": "markdown",
   "metadata": {
    "deletable": false,
    "editable": false,
    "nbgrader": {
     "cell_type": "markdown",
     "checksum": "c49042a5fac8f5326344c16f3cd2c16a",
     "grade": false,
     "grade_id": "cell-20a42e3df9860ed7",
     "locked": true,
     "points": 1,
     "schema_version": 3,
     "solution": false,
     "task": true
    }
   },
   "source": [
    "##### 7.2.2 (1 point)\n",
    "\n",
    "What do you notice in the plot?\n"
   ]
  },
  {
   "cell_type": "markdown",
   "metadata": {},
   "source": [
    "I notice that brooklyn and queens have the most accidents. While, staten island is the least by a long shot. "
   ]
  },
  {
   "cell_type": "markdown",
   "metadata": {
    "deletable": false,
    "editable": false,
    "nbgrader": {
     "cell_type": "markdown",
     "checksum": "a97c4a3b51993a0fcb4d85026d8f7e2d",
     "grade": false,
     "grade_id": "cell-ec1ee4f915e4f7d5",
     "locked": true,
     "schema_version": 3,
     "solution": false,
     "task": false
    }
   },
   "source": [
    "#### 7.3 (hard | 3 points)\n",
    "\n",
    "Calculate the number of accidents per square mile for each borough.\n",
    "\n",
    "**Hint:** You will have to update the keys in the borough dictionary to match the names in the DataFrame."
   ]
  },
  {
   "cell_type": "code",
   "execution_count": 372,
   "metadata": {
    "deletable": false,
    "nbgrader": {
     "cell_type": "code",
     "checksum": "2197fae166f809046bd48a9b4a55d64d",
     "grade": false,
     "grade_id": "cell-a6739c46c019dfd0",
     "locked": false,
     "schema_version": 3,
     "solution": true,
     "task": false
    }
   },
   "outputs": [],
   "source": [
    "def ex_7_3(df, borough_data):\n",
    "    \"\"\"\n",
    "    Calculate accidents per sq mile for each borough\n",
    "    \n",
    "    Arguments:\n",
    "    `borough_frame`: A pandas DataFrame with the count of accidents per borough\n",
    "    `borough_data`: A python dictionary with population and area data for each borough\n",
    "    \n",
    "    \n",
    "    Outputs:\n",
    "    `borough_frame`: The same `borough_frame` DataFrame used as input, only with an\n",
    "    additional column called `accidents_per_sq_mi` that results from dividing\n",
    "    the number of accidents in each borough by its area. Please call this new column\n",
    "    exactly `accidents_per_sq_mi` - otherwise the test cells will throw an error.\n",
    "    \"\"\"\n",
    "    \n",
    "    boroughs = ex_7_1(df)\n",
    "    borough_frame = pd.DataFrame(boroughs)\n",
    "    \n",
    "    # YOUR CODE HERE\n",
    "    # update keys from the borough dict to match DF...i.e. 'the bronx to the [Bronx]'\n",
    "    # first reset index so boroughs are on the left\n",
    "    pd.DataFrame(ex_7_1(df)).reset_index()\n",
    "    # take borough data and make the column names of the boroughs indexes\n",
    "    pd.DataFrame.from_dict(borough_data, orient = 'index')\n",
    "    # reset indext of ex 7.1 \n",
    "    df1 = pd.DataFrame(ex_7_1(df)).reset_index()\n",
    "    # make borough lowercase to easily read\n",
    "    df1['BOROUGH'] = df1['BOROUGH'].str.lower()\n",
    "    # renaming boroughs and 0 to count and lowercase borough\n",
    "    df1 = df1.rename(columns = {'BOROUGH': 'borough', 0:'Count'})\n",
    "    # take borough_data and use those names as indexes\n",
    "    df2 = pd.DataFrame.from_dict(borough_data, orient = 'index')\n",
    "    # use loc function to locate and select column and row to rename the bronx\n",
    "    df2.loc['the bronx','name'] = 'bronx'\n",
    "    borough_frame = df1.merge(df2, left_on='borough', right_on='name', how='left')\n",
    "    #merge both df1 and df2 (borough_data) you created and divide to calculate persqmi\n",
    "    borough_frame['accidents_per_sq_mi'] = borough_frame['Count'] / borough_frame['area']\n",
    "    \n",
    "    return borough_frame # This must be a DataFrame, NOT a Series"
   ]
  },
  {
   "cell_type": "markdown",
   "metadata": {
    "deletable": false,
    "editable": false,
    "nbgrader": {
     "cell_type": "markdown",
     "checksum": "47bce0848713775ce00ee28d8b1d18d2",
     "grade": false,
     "grade_id": "cell-5ce964972da9e2c8",
     "locked": true,
     "schema_version": 3,
     "solution": false,
     "task": false
    }
   },
   "source": [
    "#### 7.4\n",
    "##### 7.4.1 (1 point)\n",
    "\n",
    "Plot a bar graph of the accidents per square mile per borough with the data you just calculated. "
   ]
  },
  {
   "cell_type": "code",
   "execution_count": 374,
   "metadata": {
    "deletable": false,
    "nbgrader": {
     "cell_type": "code",
     "checksum": "0aa2a94c1ba25ce840764820ffc9d592",
     "grade": true,
     "grade_id": "cell-35a7dba3a934592f",
     "locked": false,
     "points": 1,
     "schema_version": 3,
     "solution": true,
     "task": false
    }
   },
   "outputs": [
    {
     "data": {
      "text/plain": [
       "<AxesSubplot:xlabel='name'>"
      ]
     },
     "execution_count": 374,
     "metadata": {},
     "output_type": "execute_result"
    },
    {
     "data": {
      "image/png": "[encoded data removed]",
      "text/plain": [
       "<Figure size 432x288 with 1 Axes>"
      ]
     },
     "metadata": {
      "needs_background": "light"
     },
     "output_type": "display_data"
    }
   ],
   "source": [
    "# YOUR CODE HERE\n",
    "ex_7_3(df, borough_data)[['name', 'accidents_per_sq_mi']].plot.bar(x = 'name')"
   ]
  },
  {
   "cell_type": "markdown",
   "metadata": {
    "deletable": false,
    "editable": false,
    "nbgrader": {
     "cell_type": "markdown",
     "checksum": "2b1cc0520a3f943c244babb450ce62ec",
     "grade": false,
     "grade_id": "cell-52f66926e9de15b1",
     "locked": true,
     "points": 1,
     "schema_version": 3,
     "solution": false,
     "task": true
    }
   },
   "source": [
    "##### 7.4.2 (1 point)\n",
    "\n",
    "What can you conclude?\n"
   ]
  },
  {
   "cell_type": "markdown",
   "metadata": {},
   "source": [
    "I conclude that staten island has the least amount of accidents per square mile and manhattan is the most accidents per square mile. Comparing to 7.2 graph, Manhattan has the third leading accident count. However, in this Manhattan leads in accidents per square mile. I can conclude that due to the smaller area people are driving, it is in Manhattan. "
   ]
  },
  {
   "cell_type": "markdown",
   "metadata": {
    "deletable": false,
    "editable": false,
    "nbgrader": {
     "cell_type": "markdown",
     "checksum": "41864b29ca481242a1f857e0af955506",
     "grade": false,
     "grade_id": "cell-614c2ca6ab488cb3",
     "locked": true,
     "schema_version": 3,
     "solution": false,
     "task": false
    },
    "tags": [
     "20_min"
    ]
   },
   "source": [
    "### Exercise 8\n",
    "\n",
    "#### 8.1 (2 points)\n",
    "\n",
    "Create a Series of the number of accidents per hour and borough."
   ]
  },
  {
   "cell_type": "code",
   "execution_count": 375,
   "metadata": {
    "deletable": false,
    "nbgrader": {
     "cell_type": "code",
     "checksum": "b65f514ec00d48f28fbac57483d65b6c",
     "grade": false,
     "grade_id": "cell-27af814f24d2deba",
     "locked": false,
     "schema_version": 3,
     "solution": true,
     "task": false
    }
   },
   "outputs": [],
   "source": [
    "def ex_8_1(df):\n",
    "    \"\"\"\n",
    "    Calculate accidents per hour for each borough\n",
    "    \n",
    "    Arguments:\n",
    "    `df`: A pandas DataFrame\n",
    "    \n",
    "    \n",
    "    Outputs:\n",
    "    `bor_hour`: A Series. This should be the result of doing groupby by borough\n",
    "    and hour.\n",
    "    \"\"\"\n",
    "    \n",
    "    # YOUR CODE HERE\n",
    "    bor_hour = df.groupby(['BOROUGH', 'HOUR']).size()\n",
    "    \n",
    "    return bor_hour"
   ]
  },
  {
   "cell_type": "markdown",
   "metadata": {
    "deletable": false,
    "editable": false,
    "nbgrader": {
     "cell_type": "markdown",
     "checksum": "ad3ede35cfddf18172fbd8082edc1340",
     "grade": false,
     "grade_id": "cell-faa3c5768fdc05c1",
     "locked": true,
     "schema_version": 3,
     "solution": false,
     "task": false
    }
   },
   "source": [
    "#### 8.2\n",
    "##### 8.2.1 (2 points)\n",
    "\n",
    "Plot a bar graph for each borough showing the number of accidents for each hour of the day. \n",
    "\n",
    "**Hint:** You can use ```sns.FacetGrid``` to create a grid of plots with the hourly data of each borough."
   ]
  },
  {
   "cell_type": "code",
   "execution_count": 377,
   "metadata": {
    "deletable": false,
    "nbgrader": {
     "cell_type": "code",
     "checksum": "97d44294a68f1688b683c318e230092e",
     "grade": true,
     "grade_id": "cell-cf78df4c32eb7f7c",
     "locked": false,
     "points": 2,
     "schema_version": 3,
     "solution": true,
     "task": false
    }
   },
   "outputs": [
    {
     "name": "stderr",
     "output_type": "stream",
     "text": [
      "/home/jovyan/.local/lib/python3.8/site-packages/seaborn/axisgrid.py:670: UserWarning: Using the barplot function without specifying `order` is likely to produce an incorrect plot.\n",
      "  warnings.warn(warning)\n"
     ]
    },
    {
     "data": {
      "text/plain": [
       "<seaborn.axisgrid.FacetGrid at 0x7ff51db53310>"
      ]
     },
     "execution_count": 377,
     "metadata": {},
     "output_type": "execute_result"
    },
    {
     "data": {
      "image/png": "[encoded data removed]",
      "text/plain": [
       "<Figure size 1800x360 with 5 Axes>"
      ]
     },
     "metadata": {
      "needs_background": "light"
     },
     "output_type": "display_data"
    }
   ],
   "source": [
    "# YOUR CODE HERE\n",
    "bor_hour_graph = df.groupby(['BOROUGH', 'HOUR']).size()\n",
    "bor_hour_graph = ex_8_1(df).to_frame('ACCIDENTS PER HOUR').reset_index()\n",
    "bor_hour_graph = bor_hour_graph.rename(columns = {0:'AACCIDENTS PER HOUR'})\n",
    "bor_hour_graph = sns.FacetGrid(bor_hour_graph, col = 'BOROUGH', height= 5)\n",
    "bor_hour_graph.map(sns.barplot, 'HOUR', 'ACCIDENTS PER HOUR')"
   ]
  },
  {
   "cell_type": "markdown",
   "metadata": {
    "deletable": false,
    "editable": false,
    "nbgrader": {
     "cell_type": "markdown",
     "checksum": "b98f84049f3a3f183c0094515f738cd7",
     "grade": false,
     "grade_id": "cell-bb03b8b83ea90208",
     "locked": true,
     "points": 1,
     "schema_version": 3,
     "solution": false,
     "task": true
    }
   },
   "source": [
    "##### 8.2.2 (1 point)\n",
    "\n",
    "Which hours have the most accidents for each borough?\n"
   ]
  },
  {
   "cell_type": "markdown",
   "metadata": {},
   "source": [
    "The hours that have the most accidents for each borough is:\n",
    "Bronx: Hour 16\n",
    "Brooklyn: Hour 16\n",
    "Manhattan: Hour 14\n",
    "Queens: Hour 17\n",
    "Staten Island: Hour 16"
   ]
  },
  {
   "cell_type": "markdown",
   "metadata": {
    "deletable": false,
    "editable": false,
    "nbgrader": {
     "cell_type": "markdown",
     "checksum": "f5de9ad231a44360ee869189217c955e",
     "grade": false,
     "grade_id": "cell-5fb1df47b08de6f3",
     "locked": true,
     "schema_version": 3,
     "solution": false,
     "task": false
    },
    "tags": [
     "20_min"
    ]
   },
   "source": [
    "### Exercise 9 (hard | 3 points)\n",
    "\n",
    "Using `contrib_df`, find which 6 factors cause the most accidents. It is important that you avoid double counting the contributing factors of a single accident.\n",
    "\n",
    "**Hint:** You can use the [**`pd.melt()`**](https://pandas.pydata.org/docs/reference/api/pandas.melt.html) function to take a subset of `df` and convert it from [wide format to narrow format](https://en.wikipedia.org/wiki/Wide_and_narrow_data)."
   ]
  },
  {
   "cell_type": "code",
   "execution_count": 378,
   "metadata": {
    "deletable": false,
    "nbgrader": {
     "cell_type": "code",
     "checksum": "68aca6f8700a1bfaabbc1380f2fc2630",
     "grade": false,
     "grade_id": "cell-98f4ca4b8b9f6037",
     "locked": false,
     "schema_version": 3,
     "solution": true,
     "task": false
    }
   },
   "outputs": [],
   "source": [
    "def ex_9(df):\n",
    "    \"\"\"\n",
    "    Finds which 6 factors cause the most accidents, without \n",
    "    double counting the contributing factors of a single accident.\n",
    "    \n",
    "    Arguments:\n",
    "    `contrib_df`: A pandas DataFrame.\n",
    "    \n",
    "    Outputs:\n",
    "    `factors_most_acc`: A pandas DataFrame. It has only 6 elements, which are,\n",
    "    sorted in descending order, the contributing factors with the most accidents.\n",
    "    The column with the actual numbers is named `index`.    \n",
    "    \"\"\"\n",
    "    \n",
    "    # YOUR CODE HERE\n",
    "    contrib_fact_cols = ['CONTRIBUTING FACTOR VEHICLE 1', 'CONTRIBUTING FACTOR VEHICLE 2', 'CONTRIBUTING FACTOR VEHICLE 3','CONTRIBUTING FACTOR VEHICLE 4','CONTRIBUTING FACTOR VEHICLE 5']\n",
    "    contrib_df = pd.melt(df.reset_index(), id_vars = ['index'], value_vars = contrib_fact_cols).dropna()\n",
    "    contrib_df = contrib_df.drop(columns = ['variable'])\n",
    "    contrib_df = contrib_df.drop_duplicates()\n",
    "    factors_most_acc = contrib_df.groupby('value').count()\n",
    "    factors_most_acc = factors_most_acc.sort_values('index', ascending = False).head(6)\n",
    "    \n",
    "    return factors_most_acc"
   ]
  },
  {
   "cell_type": "markdown",
   "metadata": {
    "deletable": false,
    "editable": false,
    "nbgrader": {
     "cell_type": "markdown",
     "checksum": "65de54c30a403823d5e84032be8bf5db",
     "grade": false,
     "grade_id": "cell-cf540a533b618241",
     "locked": true,
     "schema_version": 3,
     "solution": false,
     "task": false
    },
    "tags": [
     "20_min"
    ]
   },
   "source": [
    "### Exercise 10 (hard | 3 points)\n",
    "\n",
    "Which 10 vehicle type-borough pairs are most involved in accidents? Avoid double counting the types of vehicles involved in a single accident. You can apply a similar approach to the one used in the previous exercise using `pd.melt()`.\n",
    "\n",
    "**Hint:** You may want to include `BOROUGH` as one of your `id_vars` (the other being `index`) in `pd.melt()`. Including `BOROUGH` in your final `.groupby()` is also a good idea."
   ]
  },
  {
   "cell_type": "code",
   "execution_count": 405,
   "metadata": {
    "deletable": false,
    "nbgrader": {
     "cell_type": "code",
     "checksum": "aa1c12ecb010efb73e16b3d8cd9c788e",
     "grade": false,
     "grade_id": "cell-4088733a6a07c9a3",
     "locked": false,
     "schema_version": 3,
     "solution": true,
     "task": false
    }
   },
   "outputs": [],
   "source": [
    "def ex_10(df):\n",
    "    \"\"\"\n",
    "    Finds the 10 borough:vehicle type pairs with more accidents, without \n",
    "    double counting the vehicle types of a single accident.\n",
    "    \n",
    "    Arguments:\n",
    "    `df`: A pandas DataFrame.\n",
    "    \n",
    "    Outputs:\n",
    "    `vehi_most_acc`: A pandas DataFrame. It has only 10 elements, which are,\n",
    "    sorted in descending order, the borough-vehicle pairs with the most accidents.\n",
    "    The column with the actual numbers is named `index`\n",
    "    \"\"\"\n",
    "\n",
    "    vehi_cols = ['VEHICLE TYPE CODE 1','VEHICLE TYPE CODE 2','VEHICLE TYPE CODE 3','VEHICLE TYPE CODE 4','VEHICLE TYPE CODE 5']\n",
    "    \n",
    "    # YOUR CODE HERE\n",
    "    df = pd.melt(df.reset_index(), id_vars = [\"BOROUGH\", \"index\"], value_vars = vehi_cols).dropna()\n",
    "    df = df.drop_duplicates(subset = [\"index\", \"value\"])\n",
    "    vehi_most_acc = df.groupby([\"value\", \"BOROUGH\"]).count().sort_values(by = \"index\", ascending = False).head(10)\n",
    "    \n",
    "    return vehi_most_acc"
   ]
  },
  {
   "cell_type": "markdown",
   "metadata": {
    "deletable": false,
    "editable": false,
    "nbgrader": {
     "cell_type": "markdown",
     "checksum": "1a6a37a45b9420d930ddf495e18395d7",
     "grade": false,
     "grade_id": "cell-6185ec3a6e0f2096",
     "locked": true,
     "points": 2,
     "schema_version": 3,
     "solution": false,
     "task": true
    },
    "tags": [
     "10_min"
    ]
   },
   "source": [
    "### Exercise 11 (2 points)\n",
    "\n",
    "In a 2018 [interview](https://www.nytimes.com/2019/01/01/nyregion/traffic-deaths-decrease-nyc.html) with The New York Times, New York's mayor de Blasio stated that \"*Vision Zero is clearly working*\". That year, the number of deaths in traffic accidents in NYC dropped to a historically low 202. Yet, as reported by [am New York Metro](https://www.amny.com/news/vision-zero-de-blasio-1-30707464/), the number of fatalities has increased by 30% in the first quarter of 2019 compared to the previous year and the number of pedestrians and cyclists injured has not seen any improvement.\n",
    "\n",
    "Which of the following BEST describes how you would use the provided data to understand what went wrong in the first quarter of 2019? Please explain the reasons for your choice.\n",
    "\n",
    "<ul>\n",
    "A. Consider the accidents of the first quarter of 2019. Then, check for the most common causes of accidents where pedestrians and cyclists were involved. Give a recommendation based solely on this information.<br>\n",
    "B. Create a pair of heat maps of the accidents involving injured/killed pedestrians and cyclists in the first quarter of 2018 and 2019. Compare these two to see if there is any change in the concentration of accidents. In critical areas, study the type of factors involved in the accidents. Give a recommendation to visit these areas to study the problem further.<br>\n",
    "C. The provided data is insufficient to improve our understanding of the situation.<br>\n",
    "D. None of the above. (If you choose this, please elaborate on what you would do instead.)<br>\n",
    "</ul>\n",
    "\n"
   ]
  },
  {
   "cell_type": "markdown",
   "metadata": {},
   "source": [
    "D. None of the above.\n",
    "\n",
    "The provided data is limited and does not provide enough information to accurately understand what went wrong in the first quarter of 2019. In order to properly diagnose the problem and provide meaningful recommendations, it would be necessary to gather more detailed information about the accidents, such as the specific causes, locations, and contributing factors. Additionally, it would be useful to study other potential factors that may have contributed to the increase in accidents, such as changes in traffic patterns, road conditions, weather, etc. Based on this additional information, it would be possible to identify potential solutions and make more accurate recommendations for addressing the problem."
   ]
  },
  {
   "cell_type": "markdown",
   "metadata": {
    "deletable": false,
    "editable": false,
    "nbgrader": {
     "cell_type": "markdown",
     "checksum": "2cea748d3175654d551392ca574e5771",
     "grade": false,
     "grade_id": "cell-b0eb22fc9f454341",
     "locked": true,
     "schema_version": 3,
     "solution": false,
     "task": false
    },
    "tags": [
     "30_min"
    ]
   },
   "source": [
    "### Exercise 12\n",
    "\n",
    "#### 12.1 (hard | 3 points)\n",
    "\n",
    "Calculate the number of deaths caused by each type of vehicle.\n",
    "\n",
    "**Hint 1:** As an example of how to compute vehicle involvement in deaths, suppose two people died in an accident where 5 vehicles were involved, and 4 are PASSENGER VEHICLE and 1 is a SPORT UTILITY/STATION WAGON. Then we would add two deaths to both the PASSENGER VEHICLE and SPORT UTILITY/STATION WAGON types.)\n",
    "\n",
    "**Hint 2:** You will need to use `pd.melt()` and proceed as in the previous exercises to avoid double-counting the types of vehicles (i.e. you should remove duplicate \"accident ID - vehicle type\" pairs)."
   ]
  },
  {
   "cell_type": "code",
   "execution_count": 35,
   "metadata": {
    "deletable": false,
    "nbgrader": {
     "cell_type": "code",
     "checksum": "0431b41abd8dd1f6e405e464dab61337",
     "grade": false,
     "grade_id": "cell-84b57a3cbf3d976f",
     "locked": false,
     "schema_version": 3,
     "solution": true,
     "task": false
    }
   },
   "outputs": [],
   "source": [
    "def ex_12_1(df):\n",
    "    \"\"\"\n",
    "    Calculate total killed per vehicle type and plot the result\n",
    "    as a bar graph\n",
    "    \n",
    "    Arguments:\n",
    "    `df`: A pandas DataFrame.    \n",
    "    \n",
    "    Outputs:\n",
    "    `result`: A pandas DataFrame. Its index should be the vehicle type. Its only\n",
    "    column should be `TOTAL KILLED`\n",
    "    \"\"\"\n",
    "    \n",
    "    # YOUR CODE HERE\n",
    "    df['TOTAL KILLED'] = df[['NUMBER OF PEDESTRIANS KILLED','NUMBER OF CYCLIST KILLED','NUMBER OF MOTORIST KILLED' ]].apply(sum,axis=1)\n",
    "    rows_with_deaths = df['TOTAL KILLED']>0\n",
    "    df = df[rows_with_deaths]\n",
    "    keep_columns = ['VEHICLE TYPE CODE 1','VEHICLE TYPE CODE 2','VEHICLE TYPE CODE 3','VEHICLE TYPE CODE 4','VEHICLE TYPE CODE 5', 'TOTAL KILLED']\n",
    "    df = df[keep_columns].reset_index()\n",
    "    df = pd.melt(df, id_vars = ['index', 'TOTAL KILLED'], value_vars = keep_columns.remove('TOTAL KILLED'))\n",
    "    df = df.drop(columns = 'variable')\n",
    "    df = df.dropna(subset = ['value'])\n",
    "    df = df.drop_duplicates()\n",
    "    df = df.groupby('value')[['TOTAL KILLED']].sum()\n",
    "    result = df.sort_values(by = 'TOTAL KILLED', ascending = False)\n",
    "    \n",
    "    \n",
    "    return result"
   ]
  },
  {
   "cell_type": "markdown",
   "metadata": {
    "deletable": false,
    "editable": false,
    "nbgrader": {
     "cell_type": "markdown",
     "checksum": "8227a6822327fb55597d441d5331991a",
     "grade": false,
     "grade_id": "cell-6e6546c1b98dfc66",
     "locked": true,
     "schema_version": 3,
     "solution": false,
     "task": false
    }
   },
   "source": [
    "#### 12.2\n",
    "##### 12.2.1 (1 point)\n",
    "\n",
    "Plot a bar chart for the top 5 vehicles."
   ]
  },
  {
   "cell_type": "code",
   "execution_count": 61,
   "metadata": {
    "deletable": false,
    "nbgrader": {
     "cell_type": "code",
     "checksum": "82ef9b39c65ff79358cbc28822844959",
     "grade": true,
     "grade_id": "cell-168b88cb6833db0d",
     "locked": false,
     "points": 1,
     "schema_version": 3,
     "solution": true,
     "task": false
    }
   },
   "outputs": [
    {
     "data": {
      "image/png": "[encoded data removed]",
      "text/plain": [
       "<Figure size 432x288 with 1 Axes>"
      ]
     },
     "metadata": {
      "needs_background": "light"
     },
     "output_type": "display_data"
    }
   ],
   "source": [
    "# YOUR CODE HERE\n",
    "result = ex_12_1(df).head(5)\n",
    "# plot the bar chart\n",
    "plt.bar(result.index, result['TOTAL KILLED'], align='edge', width=0.3)\n",
    "plt.show()\n"
   ]
  },
  {
   "cell_type": "markdown",
   "metadata": {
    "deletable": false,
    "editable": false,
    "nbgrader": {
     "cell_type": "markdown",
     "checksum": "1acce0571f2863fa95c2b1756c3c4d3b",
     "grade": false,
     "grade_id": "cell-40a05f4c5f6975fc",
     "locked": true,
     "points": 2,
     "schema_version": 3,
     "solution": false,
     "task": true
    }
   },
   "source": [
    "##### 12.2.2 (2 points)\n",
    "\n",
    "Which vehicles are most often involved in deaths, and by how much more than the others?\n"
   ]
  },
  {
   "cell_type": "markdown",
   "metadata": {},
   "source": [
    "The vehicles that are most involed in deaths are Station wagons/sport utility vehicles and also sedans, with the former leading the ladder by 22 deaths. These two categories lead all others by a significant margin with motorcycles behind sedans by 43 deaths. "
   ]
  },
  {
   "cell_type": "markdown",
   "metadata": {
    "deletable": false,
    "editable": false,
    "nbgrader": {
     "cell_type": "markdown",
     "checksum": "139c6bfb128221ca6d13329a3cab689d",
     "grade": false,
     "grade_id": "cell-e4bb6f46c8a40208",
     "locked": true,
     "schema_version": 3,
     "solution": false,
     "task": false
    }
   },
   "source": [
    "## Testing cells"
   ]
  },
  {
   "cell_type": "code",
   "execution_count": 11,
   "metadata": {
    "deletable": false,
    "editable": false,
    "nbgrader": {
     "cell_type": "code",
     "checksum": "3cbb5350f5de4697586bb6484a46cabf",
     "grade": true,
     "grade_id": "cell-8603b4cdee9ac4a7",
     "locked": true,
     "points": 2,
     "schema_version": 3,
     "solution": false,
     "task": false
    }
   },
   "outputs": [
    {
     "name": "stdout",
     "output_type": "stream",
     "text": [
      "Exercise 2.1 looks correct!\n"
     ]
    }
   ],
   "source": [
    "# Ex. 2.1\n",
    "assert type(ex_2(df)) == type(pd.Series([9,1,2])), \"Ex. 2.1 - Your output isn't a pandas Series. If you use .groupby() and an aggregation function, the output is a Series by default.\"\n",
    "assert ex_2(df).loc[\"2018-10\"] == 13336, \"Ex. 2.1 - Wrong output! Try using the .size() aggregation function with your .groupby().\"\n",
    "print(\"Exercise 2.1 looks correct!\")"
   ]
  },
  {
   "cell_type": "code",
   "execution_count": 81,
   "metadata": {
    "deletable": false,
    "editable": false,
    "nbgrader": {
     "cell_type": "code",
     "checksum": "8eb9f81fb795df95c8f6a8d6c57c72a6",
     "grade": true,
     "grade_id": "cell-0446147196bd9bf1",
     "locked": true,
     "points": 2,
     "schema_version": 3,
     "solution": false,
     "task": false
    }
   },
   "outputs": [
    {
     "name": "stdout",
     "output_type": "stream",
     "text": [
      "Exercise 4.1 looks correct!\n"
     ]
    }
   ],
   "source": [
    "# Ex 4.1\n",
    "assert type(ex_4(df)) == type(pd.Series([9,1,2])), \"Ex. 4.1 - Your output isn't a pandas Series. If you use .groupby() and an aggregation function, the output is a Series by default.\"\n",
    "assert ex_4(df).loc[13] == 14224, \"Ex. 4.1 - Wrong output! Try using the .size() aggregation function with your .groupby().\"\n",
    "print(\"Exercise 4.1 looks correct!\")"
   ]
  },
  {
   "cell_type": "code",
   "execution_count": 49,
   "metadata": {
    "deletable": false,
    "editable": false,
    "nbgrader": {
     "cell_type": "code",
     "checksum": "056f30c3c9ca887bb9b0c8d8528de87a",
     "grade": true,
     "grade_id": "cell-4caba3f3fb6ed65e",
     "locked": true,
     "points": 2,
     "schema_version": 3,
     "solution": false,
     "task": false
    }
   },
   "outputs": [
    {
     "name": "stdout",
     "output_type": "stream",
     "text": [
      "Exercise 6.1 looks correct!\n"
     ]
    }
   ],
   "source": [
    "# Ex. 6.1\n",
    "assert type(ex_6(df)) == type(pd.Series([9,1,2])), \"Ex. 6.1 - Your output isn't a pandas Series. If you use .groupby() and an aggregation function, the output is a Series by default.\"\n",
    "assert max(ex_6(df)) == 37886, \"Ex. 6.1 - Your results don't match ours! Remember that you can use the .size() aggregation function to count the number of elements in a groupby group.\"\n",
    "print(\"Exercise 6.1 looks correct!\")"
   ]
  },
  {
   "cell_type": "code",
   "execution_count": 70,
   "metadata": {
    "deletable": false,
    "editable": false,
    "nbgrader": {
     "cell_type": "code",
     "checksum": "2c46b798d2354432aae6ffa00e949974",
     "grade": true,
     "grade_id": "cell-d0d5b19c5e858b5b",
     "locked": true,
     "points": 2,
     "schema_version": 3,
     "solution": false,
     "task": false
    }
   },
   "outputs": [
    {
     "name": "stdout",
     "output_type": "stream",
     "text": [
      "Exercise 7.1 looks correct!\n"
     ]
    }
   ],
   "source": [
    "# Ex. 7.1\n",
    "assert type(ex_7_1(df)) == type(pd.Series([9,1,2])), \"Ex. 7.1 - Your output isn't a pandas Series. If you use .groupby() and an aggregation function, the output is a Series by default.\"\n",
    "assert max(ex_7_1(df)) == 76253, \"Ex. 7.1 - Your results don't match ours! Remember that you can use the .size() aggregation function to count the number of elements in a groupby group.\"\n",
    "print(\"Exercise 7.1 looks correct!\")"
   ]
  },
  {
   "cell_type": "code",
   "execution_count": 94,
   "metadata": {
    "deletable": false,
    "editable": false,
    "nbgrader": {
     "cell_type": "code",
     "checksum": "684a631a1c32a9e0b30613aad2f8290d",
     "grade": true,
     "grade_id": "cell-15083640059ae00c",
     "locked": true,
     "points": 3,
     "schema_version": 3,
     "solution": false,
     "task": false
    }
   },
   "outputs": [
    {
     "name": "stdout",
     "output_type": "stream",
     "text": [
      "Exercise 7.3 looks correct!\n"
     ]
    }
   ],
   "source": [
    "# Ex. 7.3\n",
    "with open('data/borough_data.json') as f:\n",
    "    borough_data=json.load(f)\n",
    "borough_data\n",
    "e73 = ex_7_3(df, borough_data)\n",
    "assert \"accidents_per_sq_mi\" in e73.columns, \"Ex. 7.3 - You didn't create an 'accidents_per_sq_mi' in your DataFrame!\"\n",
    "assert round(min(e73[\"accidents_per_sq_mi\"])) == 149, \"Ex. 7.3 - Your output doesn't match ours! Remember that you need to divide the number of accidents in each of the five boroughs by the respective areas in square miles.\"\n",
    "print(\"Exercise 7.3 looks correct!\")"
   ]
  },
  {
   "cell_type": "code",
   "execution_count": 167,
   "metadata": {
    "deletable": false,
    "editable": false,
    "nbgrader": {
     "cell_type": "code",
     "checksum": "9fa1ef76bee7bc2f0a1c92e10ae3dc89",
     "grade": true,
     "grade_id": "cell-3a8314b522d587d5",
     "locked": true,
     "points": 2,
     "schema_version": 3,
     "solution": false,
     "task": false
    }
   },
   "outputs": [
    {
     "name": "stdout",
     "output_type": "stream",
     "text": [
      "Exercise 8.1 looks correct!\n"
     ]
    }
   ],
   "source": [
    "# Ex. 8.1\n",
    "assert type(ex_8_1(df)) == type(pd.Series([9,1,2])), \"Ex. 8.1 - Your output isn't a pandas Series. If you use .groupby() and an aggregation function, the output is a Series by default.\"\n",
    "assert ex_8_1(df).max() == 5701, \"Ex. 8.1 - Your numbers don't match ours. If you haven't already, you can try using .size() as your aggregation function.\"\n",
    "print(\"Exercise 8.1 looks correct!\")"
   ]
  },
  {
   "cell_type": "code",
   "execution_count": 351,
   "metadata": {
    "deletable": false,
    "editable": false,
    "nbgrader": {
     "cell_type": "code",
     "checksum": "95ad1c60d590c4df15b54516dfc0438c",
     "grade": true,
     "grade_id": "cell-f7e925a7d3176181",
     "locked": true,
     "points": 3,
     "schema_version": 3,
     "solution": false,
     "task": false
    }
   },
   "outputs": [
    {
     "name": "stdout",
     "output_type": "stream",
     "text": [
      "Exercise 9 looks correct!\n"
     ]
    }
   ],
   "source": [
    "# Ex. 9\n",
    "assert type(ex_9(df)) == type(pd.Series([9,1,2]).to_frame()), \"Ex. 9 - Your output isn't a pandas DataFrame. If you use .groupby() and an aggregation function, the output is a Series by default.\"\n",
    "assert len(ex_9(df)) == 6, \"Ex. 9 - Your output doesn't have six elements. Did you forget to use .head(6)?\"\n",
    "assert int(ex_9(df)[\"index\"].sum()) == 316248, \"Ex. 9 - Your numbers don't match ours. Are you sure you sorted your Series in descending order? If you haven't already, you can try using .count() as your aggregation function.\"\n",
    "print(\"Exercise 9 looks correct!\")"
   ]
  },
  {
   "cell_type": "code",
   "execution_count": 402,
   "metadata": {
    "deletable": false,
    "editable": false,
    "nbgrader": {
     "cell_type": "code",
     "checksum": "90fb5d5ff37e0078e0ccaba15df39835",
     "grade": true,
     "grade_id": "cell-5d8b6e5f8bc04083",
     "locked": true,
     "points": 3,
     "schema_version": 3,
     "solution": false,
     "task": false
    }
   },
   "outputs": [
    {
     "name": "stdout",
     "output_type": "stream",
     "text": [
      "Exercise 10 looks correct!\n"
     ]
    }
   ],
   "source": [
    "# Ex. 10\n",
    "assert type(ex_10(df)) == type(pd.Series([9,1,2]).to_frame()), \"Ex. 10 - Your output isn't a pandas DataFrame. If you use .groupby() and an aggregation function, the output is a Series by default.\"\n",
    "assert len(ex_10(df)[\"index\"]) == 10, \"Ex. 10 - Your output doesn't have 10 elements. Did you forget to use .head(10)?\"\n",
    "assert ex_10(df)[\"index\"].sum() == 229882, \"Ex. 10 - Your numbers don't match ours. Are you sure you sorted your Series in descending order? If you haven't already, you can try using .count() as your aggregation function.\"\n",
    "print(\"Exercise 10 looks correct!\")"
   ]
  },
  {
   "cell_type": "code",
   "execution_count": 37,
   "metadata": {
    "deletable": false,
    "editable": false,
    "nbgrader": {
     "cell_type": "code",
     "checksum": "a15a7066fb6d3d021a10ac8e038a5f48",
     "grade": true,
     "grade_id": "cell-7ca8cbd13d9c22d1",
     "locked": true,
     "points": 3,
     "schema_version": 3,
     "solution": false,
     "task": false
    }
   },
   "outputs": [
    {
     "name": "stdout",
     "output_type": "stream",
     "text": [
      "Exercise 12.1 looks correct!\n"
     ]
    }
   ],
   "source": [
    "# Ex. 12.1\n",
    "e12 = ex_12_1(df)\n",
    "assert type(e12) == type(pd.Series([9,1,2]).to_frame()), \"Ex. 12.1 - Your output isn't a pandas DataFrame. If you use .groupby() and an aggregation function, the output is a Series by default.\"\n",
    "assert int(e12.loc[\"Bike\"]) == 19, \"Ex. 12.1 - Your output doesn't match ours! Remember that you need to remove the duplicate pairs and use the .sum() aggregation function in your groupby.\"\n",
    "print(\"Exercise 12.1 looks correct!\")"
   ]
  },
  {
   "cell_type": "markdown",
   "metadata": {
    "deletable": false,
    "editable": false,
    "nbgrader": {
     "cell_type": "markdown",
     "checksum": "952f138caca9832b6a06e9e94dd62f30",
     "grade": false,
     "grade_id": "cell-3b34aebdab696006",
     "locked": true,
     "schema_version": 3,
     "solution": false,
     "task": false
    }
   },
   "source": [
    "## Attribution\n",
    "\n",
    "\"Vehicle Collisions in NYC 2015-Present\", New York Police Department, [NYC Open Data terms of use](https://opendata.cityofnewyork.us/overview/#termsofuse), https://www.kaggle.com/nypd/vehicle-collisions\n",
    "\n",
    "\"Boroughs of New York City\", Creative Commons Attribution-ShareAlike License, https://en.wikipedia.org/wiki/Boroughs_of_New_York_City"
   ]
  }
 ],
 "metadata": {
  "c1_recart": "7.42.0-57c20131aabc1dc2a8c675852d80a7da",
  "kernelspec": {
   "display_name": "Python 3",
   "language": "python",
   "name": "python3"
  },
  "language_info": {
   "codemirror_mode": {
    "name": "ipython",
    "version": 3
   },
   "file_extension": ".py",
   "mimetype": "text/x-python",
   "name": "python",
   "nbconvert_exporter": "python",
   "pygments_lexer": "ipython3",
   "version": "3.8.8"
  }
 },
 "nbformat": 4,
 "nbformat_minor": 2
}
